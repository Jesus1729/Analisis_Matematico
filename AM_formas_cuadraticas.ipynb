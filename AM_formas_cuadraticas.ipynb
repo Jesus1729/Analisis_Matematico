{
  "nbformat": 4,
  "nbformat_minor": 0,
  "metadata": {
    "colab": {
      "provenance": []
    },
    "kernelspec": {
      "name": "python3",
      "display_name": "Python 3"
    },
    "language_info": {
      "name": "python"
    }
  },
  "cells": [
    {
      "cell_type": "markdown",
      "source": [
        "# Formas cuadráticas"
      ],
      "metadata": {
        "id": "Wx-S1Sve413m"
      }
    },
    {
      "cell_type": "markdown",
      "source": [
        "##Objetivo"
      ],
      "metadata": {
        "id": "PN0360I2zfdF"
      }
    },
    {
      "cell_type": "markdown",
      "source": [
        "En este trabajo nuestro objetivo es estudiar un poco de teoría sobre las formas cuadráticas, un concepto esencial en el álgebra lineal y su relación con el análisis de datos, centrándonos en la norma de Mahalanobis. Para lograr esto, se verán algunas definiciones, ejemplos implementados con Python y por último algunos ejemplos de cómo utilizar  la norma de Mahalanobis para evaluar la similitud entre observaciones y detectar outliers.\n",
        "\n",
        "\n",
        "\n"
      ],
      "metadata": {
        "id": "UunDKtGIVWzd"
      }
    },
    {
      "cell_type": "markdown",
      "source": [
        "## Dependencias"
      ],
      "metadata": {
        "id": "nNIcrtQ-r9Zh"
      }
    },
    {
      "cell_type": "code",
      "source": [
        "import numpy as np\n",
        "import pandas as pd\n",
        "import matplotlib.pyplot as plt\n",
        "import seaborn as sns\n",
        "import scipy as stats\n",
        "from scipy.spatial import distance\n",
        "from sklearn.covariance import MinCovDet\n",
        "from scipy.spatial.distance import mahalanobis\n",
        "from scipy.stats import chi2"
      ],
      "metadata": {
        "id": "5epN0E00sABM"
      },
      "execution_count": null,
      "outputs": []
    },
    {
      "cell_type": "markdown",
      "source": [
        "## Un poco de teoría"
      ],
      "metadata": {
        "id": "sprr2AUbNG3Q"
      }
    },
    {
      "cell_type": "markdown",
      "source": [
        "A continuación veremos cómo una forma cuadrática con ciertas características nos da un producto punto y por tanto una norma. Para ello comencemos dando algunas definiciones:"
      ],
      "metadata": {
        "id": "L9DTw2ziMthP"
      }
    },
    {
      "cell_type": "markdown",
      "source": [
        "**Definición 1.** Una ***forma cuadrática*** en $\\mathbb{R^{n}}$ es un polinomio de grado $2$ en $n$ variables $x_{1},\\ldots, x_{n}$ de la forma\n",
        "$$ q(x) = x^{T}Ax = \\sum_{i=1}^{n} \\sum_{j=1}^{n} a_{ij}x_{i}x_{j}$$\n",
        "donde $x=(x_{1},\\ldots,x_{n})^{T} \\in \\mathbb{R^{n}}$ y $A=(a_{ij})$ es una matriz $n \\times n$ real y simétrica.\n",
        "\n",
        "**Observación:** Una forma cuadrática en $\\mathbb{R^{n}}$ puede escribirse usando el producto interno canónico de $\\mathbb{R^{n}}$ como $q(x)=\\langle x, Ax \\rangle$."
      ],
      "metadata": {
        "id": "ONeoWfV66NHP"
      }
    },
    {
      "cell_type": "markdown",
      "source": [
        "**Definición 2.** En un espacio vectorial, un ***producto punto*** es una función\n",
        "\n",
        "$$ \\langle \\cdot, \\cdot \\rangle: V \\times V → \\mathbb{F} $$\n",
        "\n",
        "donde $V$ es un espacio vectorial y $\\mathbb{F}$ el cuerpo sobre el que está definido. Debe cumplir las siguientes condiciones:\n",
        "\n",
        "1.   $\\langle u, v \\rangle \\geq 0 $\n",
        "2.    $\\langle u, u \\rangle =0 \\Leftrightarrow u = 0 $\n",
        "3.   $ \\langle u, v \\rangle = \\overline{\\langle v, u \\rangle}  $\n",
        "4.   $ \\langle u+v,w \\rangle = \\langle u,w \\rangle + \\langle v,w \\rangle$\n",
        "5. $\\langle \\alpha u,w \\rangle = \\alpha \\langle u,w \\rangle $\n",
        "\n",
        "para todo $u,v,w \\in V$ y $\\alpha \\in \\mathbb{F} $\n",
        "\n",
        "\n",
        "\n",
        "\n"
      ],
      "metadata": {
        "id": "BMrttPOg8HdT"
      }
    },
    {
      "cell_type": "markdown",
      "source": [
        "**Definición 3.** Una matriz cuadrada $A$ es **simétrica** si $A=A^{T}$"
      ],
      "metadata": {
        "id": "neRChzqzR5vZ"
      }
    },
    {
      "cell_type": "markdown",
      "source": [
        "**Definición 4.** Sea $A=[a_{ij}] \\in M_{n \\times n}(\\mathbb{R^{n}})$ una matriz simétrica y sea $x=(x_{1},\\ldots,x_{n}) \\in \\mathbb{R^{n}}$. Entonces, la matriz $A$ se dice que es ***definida positiva*** si\n",
        "\n",
        " $$ x^{T}Ax=\\sum_{i,j}a_{ij}x_{i}x_{j}>0 $$ para todo $x \\neq \\vec{0}$."
      ],
      "metadata": {
        "id": "UDsyAsllSlVz"
      }
    },
    {
      "cell_type": "markdown",
      "source": [
        "Con esto pasemos a definir el siguiente producto punto en $\\mathbb{R^{n}}$:\n",
        "\n",
        "- Sean $x,y \\in \\mathbb{R^{n}}$.\n",
        "- Sea $B$ una matriz cuadrada real, simétrica y definida positiva.\n",
        "\n",
        "Entonces la función $\\langle⋅,⋅ \\rangle_{B}$ definida como\n",
        "\n",
        "$$\\langle x, y \\rangle_{B}=x^{T}By$$\n",
        "\n",
        "es un producto punto en $\\mathbb{R^{n}}$.\n",
        "\n",
        "Así note que podemos definir una forma cuadrática (definida positiva) asociada con ese producto punto, de la siguiente forma\n",
        "\n",
        "$$q(x)=\\langle x, x \\rangle_{B}=x^{T}Bx$$\n",
        "\n",
        "Además, podemos definir una norma:\n",
        "\n",
        "$$||x||_{B}=(x^{T}Bx)^{\\frac{1}{2}}$$"
      ],
      "metadata": {
        "id": "J04z4qd_Q0_n"
      }
    },
    {
      "cell_type": "markdown",
      "source": [
        "**Nota:** Para el caso complejo, en lugar de pedir que la matriz sea simétrica se pide que sea *hermitiana*."
      ],
      "metadata": {
        "id": "n1-8OafJtqMF"
      }
    },
    {
      "cell_type": "markdown",
      "source": [
        "## Algunos ejemplos"
      ],
      "metadata": {
        "id": "5vRv6Bhub6T1"
      }
    },
    {
      "cell_type": "markdown",
      "source": [
        "Los siguientes ejemplos son para practicar un poco sobre las formas cuadráticas."
      ],
      "metadata": {
        "id": "8ml8Y9MKC7zZ"
      }
    },
    {
      "cell_type": "markdown",
      "source": [
        "**Ejemplo 1.** Diga cuál condición debe cumplirse para que la matriz\n",
        "\n",
        "$$A = \\begin{bmatrix}\n",
        "2 & -1 & 0 \\\\\n",
        "-1 & 2 & -1\\\\\n",
        "0 & -1 & 2\n",
        "\\end{bmatrix}$$\n",
        "\n",
        "sea definida positiva.\n",
        "\n",
        "**Solución:**\n",
        "\n",
        "Queremos que $x^{T}Ax>0$. Para esto, veamos que\n",
        "\\begin{eqnarray}\n",
        "x^{T}Ax & = & \\begin{bmatrix}  \n",
        "x_{1} & x_{2} & x_{3}\n",
        "\\end{bmatrix} \\begin{bmatrix}\n",
        "2 & -1 & 0 \\\\\n",
        "-1 & 2 & -1\\\\\n",
        "0 & -1 & 2\n",
        "\\end{bmatrix} \\begin{bmatrix}\n",
        "x_{1}  \\\\\n",
        "x_{2} \\\\\n",
        "x_{3}\n",
        "\\end{bmatrix} \\\\\n",
        "& = & \\begin{bmatrix}  \n",
        "x_{1} & x_{2} & x_{3}\n",
        "\\end{bmatrix} \\begin{bmatrix}\n",
        "2x_{1}-x_{2}  \\\\\n",
        "-x_{1}+2x_{2}-x_{3} \\\\\n",
        "-x_{2}+2x_{3}\n",
        "\\end{bmatrix}\\\\\n",
        "& = & x_{1}(2x_{1}-x_{2})+x_{2}(-x_{1}+2x_{2}-x_{3})+x_{3}(-x_{2}+2x_{3}) \\\\\n",
        "& = & 2x_{1}^{2}-2x_{1}x_{2}+2x_{2}^{2}-2x_{2}x_{3}+2x_{3}^{2} \\\\\n",
        "& = & x_{1}^{2}+(x_{1}-x_{2})^{2}+(x_{2}-x_{3})^{2}+x_{3}^{2} \\\\\n",
        "\\end{eqnarray}\n",
        "\n",
        "Por tanto, la desigualdad $x_{1}^{2}+(x_{1}-x_{2})^{2}+(x_{2}-x_{3})^{2}+x_{3}^{2}>0$ se cumplirá a menos que $x_{1}=x_{2}=x_{3}=0$."
      ],
      "metadata": {
        "id": "tU99_Mi-zKhc"
      }
    },
    {
      "cell_type": "markdown",
      "source": [
        "**Ejemplo 2.** Muestre si las siguientes formas cuadráticas son definidas positivas o no:\n",
        "\n",
        "1.  $q_{1}(x_{1},x_{2})= \\begin{bmatrix}  \n",
        "x_{1} & x_{2}\n",
        "\\end{bmatrix} \\begin{bmatrix}\n",
        "2 & 3  \\\\\n",
        "3 & -1\n",
        "\\end{bmatrix} \\begin{bmatrix}\n",
        "x_{1}  \\\\\n",
        "x_{2}\n",
        "\\end{bmatrix}$\n",
        "\n",
        "2. $q_{2}(x_{1},x_{2},x_{3})= \\begin{bmatrix}\n",
        "x_{1} & x_{2} & x_{3}\n",
        "\\end{bmatrix} \\begin{bmatrix}\n",
        "1 & 1 & 1 \\\\\n",
        "1 & 3 & -1\\\\\n",
        "1 & -1 & 4\n",
        "\\end{bmatrix} \\begin{bmatrix}\n",
        "x_{1}  \\\\\n",
        "x_{2} \\\\\n",
        "x_{3}\n",
        "\\end{bmatrix}$\n",
        "\n",
        "**Solución:** Desarrollando el producto de matrices tenemos lo siguiente\n",
        "\n",
        "1.   $q(x_{1},x_{2})=\\begin{bmatrix}  \n",
        "x_{1} & x_{2}\n",
        "\\end{bmatrix} \\begin{bmatrix}\n",
        "2x_{1}+3x_{2}  \\\\\n",
        "3x_{1}-x_{2}\n",
        "\\end{bmatrix} = 2x_{1}^{2}+3x_{1}x_{2}+3x_{1}x_{2}-x_{2}^{2}=2x_{1}^{2}+6x_{1}x_{2}-x_{2}^{2}$\n",
        "\n",
        "Así observe que\n",
        "\n",
        "$q(-2,4)=2(-2)^{2}+6(-2)(4)-4^{2}=8-48-16=-56$\n",
        "\n",
        "Por tanto, $q_{1}$ no es definida positiva.\n",
        "\n",
        "2. $q_{2}(x_{1},x_{2},x_{3})=\\begin{bmatrix}\n",
        "x_{1} & x_{2} & x_{3}\n",
        "\\end{bmatrix} \\begin{bmatrix}\n",
        "x_{1}+x_{2}+x_{3}  \\\\\n",
        "x_{2}+3x_{2}-x_{3} \\\\\n",
        "x_{3}-x_{2}+4x_{3}\n",
        "\\end{bmatrix} = x_{1}^{2}+3x_{2}^{2}+4x_{3}^{2}+2x_{1}x_{2}+2x_{1}x_{3}-2x_{2}x_{3}$\n",
        "\n",
        "Se puede verificar que esta expresión es igual a\n",
        "\n",
        "$q_{2}(x_{1},x_{2},x_{3})=\\frac{2}{11}x_{1}^{2}+\\frac{1}{4}(x_{1}-x_{2}+4x_{3})^{2}+\\frac{1}{44}(5x_{1}+11x_{2})^{2}$\n",
        "\n",
        "Por tanto, $q_{2}$ es definida positiva.\n"
      ],
      "metadata": {
        "id": "RdLzMASu1a9y"
      }
    },
    {
      "cell_type": "markdown",
      "source": [
        "**Ejemplo 3.** Encuentre las matrices simétricas que representan las formas cuadráticas:\n",
        "\n",
        "\n",
        "\n",
        "1.   $\\frac{x^{2}}{a^{2}}+\\frac{y^{2}}{b^{2}}$\n",
        "2.   $\\frac{x^{2}}{a^{2}}-\\frac{y^{2}}{b^{2}}$\n",
        "3.   $x^{2}$\n",
        "\n",
        "**Solución:**\n",
        "\n",
        "1.   $\\frac{x^{2}}{a^{2}}+\\frac{y^{2}}{b^{2}}=\\begin{bmatrix}  \n",
        "x/a^{2} & y/b^{2}\n",
        "\\end{bmatrix} \\begin{bmatrix}  \n",
        "x \\\\\n",
        "y\n",
        "\\end{bmatrix} = \\begin{bmatrix}  \n",
        "x & y\n",
        "\\end{bmatrix} \\begin{bmatrix}  \n",
        "1/a^{2} & 0 \\\\\n",
        "0 & 1/b^{2}\n",
        "\\end{bmatrix} \\begin{bmatrix}  \n",
        "x \\\\\n",
        "y\n",
        "\\end{bmatrix}$\n",
        "\n",
        "2.   $\\frac{x^{2}}{a^{2}}-\\frac{y^{2}}{b^{2}}=\\begin{bmatrix}  \n",
        "x/a^{2} & -y/b^{2}\n",
        "\\end{bmatrix} \\begin{bmatrix}  \n",
        "x \\\\\n",
        "y\n",
        "\\end{bmatrix} = \\begin{bmatrix}  \n",
        "x & y\n",
        "\\end{bmatrix} \\begin{bmatrix}  \n",
        "1/a^{2} & 0 \\\\\n",
        "0 & -1/b^{2}\n",
        "\\end{bmatrix} \\begin{bmatrix}  \n",
        "x \\\\\n",
        "y\n",
        "\\end{bmatrix}$\n",
        "\n",
        "3. $x^{2}=\\begin{bmatrix}  \n",
        "x & 0\n",
        "\\end{bmatrix} \\begin{bmatrix}  \n",
        "x \\\\\n",
        "y\n",
        "\\end{bmatrix} = \\begin{bmatrix}  \n",
        "x & y\n",
        "\\end{bmatrix} \\begin{bmatrix}  \n",
        "1 & 0 \\\\\n",
        "0 & 0\n",
        "\\end{bmatrix} \\begin{bmatrix}  \n",
        "x \\\\\n",
        "y\n",
        "\\end{bmatrix}$\n",
        "\n",
        "Así las matrices simétricas que representan a las formas cuadráticas son\n",
        "$$\\begin{bmatrix}  \n",
        "1/a^{2} & 0 \\\\\n",
        "0 & 1/b^{2}\n",
        "\\end{bmatrix},\\begin{bmatrix}  \n",
        "1/a^{2} & 0 \\\\\n",
        "0 & -1/b^{2}\n",
        "\\end{bmatrix}, \\begin{bmatrix}  \n",
        "1 & 0 \\\\\n",
        "0 & 0\n",
        "\\end{bmatrix}$$\n",
        "respectivamente.\n",
        "\n"
      ],
      "metadata": {
        "id": "d0SgW-Gj3hD-"
      }
    },
    {
      "cell_type": "markdown",
      "source": [
        "## Implementación de la norma $||\\cdot||_{B}$"
      ],
      "metadata": {
        "id": "mDILE_graWYs"
      }
    },
    {
      "cell_type": "code",
      "source": [
        "def norma_fcuad(vector:np.ndarray,matriz:np.ndarray,vectorT:np.ndarray) -> float:\n",
        "  return round((np.dot(np.dot(vector, matriz), vectorT)[0][0])**(1/2),4)\n",
        "\n",
        "# También podemos definir la métrica que genera la norma\n",
        "def metrica_fcuad(vector1,matriz,vector2) -> float:\n",
        "  return norma_fcuad(vector1-vector2,matriz,(vector1-vector2).T)"
      ],
      "metadata": {
        "id": "HdKKEcWxbSFM"
      },
      "execution_count": null,
      "outputs": []
    },
    {
      "cell_type": "code",
      "source": [
        "# Ejemplo\n",
        "xT = np.array([[1,2,3]])\n",
        "x = xT.T\n",
        "B = np.array([[2,-1,0],[-1,2,-1],[0,-1,2]])\n",
        "\n",
        "f\"||{list(xT[0])} || = {norma_fcuad(xT,B,x)}\""
      ],
      "metadata": {
        "colab": {
          "base_uri": "https://localhost:8080/",
          "height": 36
        },
        "id": "kp9RLA2K-KOB",
        "outputId": "44280903-8fa9-4f0d-c062-a0f4eaa8d788"
      },
      "execution_count": null,
      "outputs": [
        {
          "output_type": "execute_result",
          "data": {
            "text/plain": [
              "'||[1, 2, 3] || = 3.4641'"
            ],
            "application/vnd.google.colaboratory.intrinsic+json": {
              "type": "string"
            }
          },
          "metadata": {},
          "execution_count": 4
        }
      ]
    },
    {
      "cell_type": "markdown",
      "source": [
        "## Algunos dibujos\n",
        "\n",
        "Visualicemos algunos conjuntos."
      ],
      "metadata": {
        "id": "2-FtnehicBNu"
      }
    },
    {
      "cell_type": "markdown",
      "source": [
        "1. $B_{||\\cdot||_{E}}((0,0),1)=\\{(x,y) \\in \\mathbb{R}^2:||(x,y)||_{E}=(3x^{2}-6xy+4y^{2}+2x-2y)^{\\frac{1}{2}}<1\\}$ con\n",
        "\n",
        "\n",
        "$$E = \\begin{bmatrix}\n",
        "3 & -3 \\\\\n",
        "-3 & 4 \\\\\n",
        "\\end{bmatrix}$$\n",
        "\n"
      ],
      "metadata": {
        "id": "UR-59blbVmwb"
      }
    },
    {
      "cell_type": "code",
      "source": [
        "# Definimos la desigualdad\n",
        "def desigualdad(x, y):\n",
        "    return (3*x**2 - 6*x*y + 4*y**2 + 2*x - 2*y)**(1/2) < 1\n",
        "\n",
        "# Generamos puntos en el rango deseado\n",
        "x = np.linspace(-2, 2, 1000)\n",
        "y = np.linspace(-2, 2, 1000)\n",
        "X, Y = np.meshgrid(x, y)\n",
        "\n",
        "# Evaluamos la desigualdad en los puntos\n",
        "Z = desigualdad(X, Y)\n",
        "\n",
        "# Configuramos el estilo del gráfico\n",
        "sns.set(style='whitegrid')\n",
        "\n",
        "# Creamos el gráfico\n",
        "plt.figure(figsize=(8, 6))\n",
        "sns.scatterplot(x=X[Z], y=Y[Z], color='blue', label='Puntos que satisfacen la desigualdad',sizes=50)\n",
        "\n",
        "# Configuramos los ejes y las etiquetas\n",
        "plt.xlim(-2, 2)\n",
        "plt.ylim(-2, 2)\n",
        "plt.xlabel('X')\n",
        "plt.ylabel('Y')\n",
        "plt.title('Puntos que satisfacen la desigualdad: $(3x^2 - 6xy + 4y^2 + 2x - 2y)^{1/2} < 1$')\n",
        "\n",
        "# Mostramos el gráfico\n",
        "plt.legend()\n",
        "plt.show()\n"
      ],
      "metadata": {
        "colab": {
          "base_uri": "https://localhost:8080/",
          "height": 612
        },
        "id": "-GBSeci8TXug",
        "outputId": "32321b54-0159-4d84-8fe1-2dc584ef731c"
      },
      "execution_count": null,
      "outputs": [
        {
          "output_type": "stream",
          "name": "stderr",
          "text": [
            "<ipython-input-10-86780e249f45>:3: RuntimeWarning: invalid value encountered in sqrt\n",
            "  return (3*x**2 - 6*x*y + 4*y**2 + 2*x - 2*y)**(1/2) < 1\n"
          ]
        },
        {
          "output_type": "display_data",
          "data": {
            "text/plain": [
              "<Figure size 800x600 with 1 Axes>"
            ],
            "image/png": "[encoded data removed]"
          },
          "metadata": {}
        }
      ]
    },
    {
      "cell_type": "markdown",
      "source": [
        "2. $B_{||\\cdot||_{H}}((0,0),1)=\\{(x,y) \\in \\mathbb{R}^2:||(x,y)||_{H}=(x^{2}-y^{2})^{\\frac{1}{2}}<1\\}$ con\n",
        "\n",
        "\n",
        "$$H = \\begin{bmatrix}\n",
        "1 & 0 \\\\\n",
        "0 & -1 \\\\\n",
        "\\end{bmatrix}$$"
      ],
      "metadata": {
        "id": "PBUXPgL77-fJ"
      }
    },
    {
      "cell_type": "code",
      "source": [
        "# Definimos la desigualdad\n",
        "def desigualdad(x, y):\n",
        "    return (x**2 - y**2)**(1/2) < 1\n",
        "\n",
        "# Generamos puntos en el rango deseado\n",
        "x = np.linspace(-2, 2, 1000)\n",
        "y = np.linspace(-2, 2, 1000)\n",
        "X, Y = np.meshgrid(x, y)\n",
        "\n",
        "# Evaluamos la desigualdad en los puntos\n",
        "Z = desigualdad(X, Y)\n",
        "\n",
        "# Configuramos el estilo del gráfico\n",
        "sns.set(style='whitegrid')\n",
        "\n",
        "# Creamos el gráfico\n",
        "plt.figure(figsize=(8, 6))\n",
        "sns.scatterplot(x=X[Z], y=Y[Z], color='m', label='Puntos que satisfacen la desigualdad',sizes=50)\n",
        "\n",
        "# Configuramos los ejes y  las etiquetas\n",
        "plt.xlim(-2, 2)\n",
        "plt.ylim(-2, 2)\n",
        "plt.xlabel('X')\n",
        "plt.ylabel('Y')\n",
        "plt.title('Puntos que satisfacen la desigualdad: $(x^2 - y^2)^{1/2} < 1$')\n",
        "\n",
        "# Mostramos el gráfico\n",
        "plt.legend()\n",
        "plt.show()\n"
      ],
      "metadata": {
        "colab": {
          "base_uri": "https://localhost:8080/",
          "height": 615
        },
        "id": "D8Nppe147Kw8",
        "outputId": "b36ec645-1511-4246-b537-3b1a1ed24c2b"
      },
      "execution_count": null,
      "outputs": [
        {
          "output_type": "stream",
          "name": "stderr",
          "text": [
            "<ipython-input-5-526e2fe48033>:3: RuntimeWarning: invalid value encountered in sqrt\n",
            "  return (x**2 - y**2)**(1/2) < 1\n"
          ]
        },
        {
          "output_type": "display_data",
          "data": {
            "text/plain": [
              "<Figure size 800x600 with 1 Axes>"
            ],
            "image/png": "[encoded data removed]"
          },
          "metadata": {}
        }
      ]
    },
    {
      "cell_type": "markdown",
      "source": [
        "3. $B_{||\\cdot||_{P}}((0,0),1)=\\{(x,y) \\in \\mathbb{R}^2:||(x,y)||_{P}=(x^{2})^{\\frac{1}{2}}=|x|<1\\}$ con\n",
        "\n",
        "\n",
        "$$P = \\begin{bmatrix}\n",
        "1 & 0 \\\\\n",
        "0 & 0 \\\\\n",
        "\\end{bmatrix}$$"
      ],
      "metadata": {
        "id": "kwZ5Z2P4-qRx"
      }
    },
    {
      "cell_type": "code",
      "source": [
        "# Definimos la desigualdad\n",
        "def desigualdad(x, y):\n",
        "    return abs(x) < 1\n",
        "\n",
        "# Generamos puntos en el rango deseado\n",
        "x = np.linspace(-2, 2, 1000)\n",
        "y = np.linspace(-2, 2, 1000)\n",
        "X, Y = np.meshgrid(x, y)\n",
        "\n",
        "# Evaluamos la desigualdad en los puntos\n",
        "Z = desigualdad(X, Y)\n",
        "\n",
        "# Configuramos el estilo del gráfico\n",
        "sns.set(style='whitegrid')\n",
        "\n",
        "# Creamos el gráfico\n",
        "plt.figure(figsize=(8, 6))\n",
        "sns.scatterplot(x=X[Z], y=Y[Z], color='red', label='Puntos que satisfacen la desigualdad',sizes=50)\n",
        "\n",
        "# Configuramos los ejes y las etiquetas\n",
        "plt.xlim(-2, 2)\n",
        "plt.ylim(-2, 2)\n",
        "plt.xlabel('X')\n",
        "plt.ylabel('Y')\n",
        "plt.title('Puntos que satisfacen la desigualdad: $|x| < 1$')\n",
        "\n",
        "# Mostramos el gráfico\n",
        "plt.legend()\n",
        "plt.show()"
      ],
      "metadata": {
        "colab": {
          "base_uri": "https://localhost:8080/",
          "height": 634
        },
        "id": "6MazP6uX-2wA",
        "outputId": "8243d93f-42a9-4bd3-834e-d17216201271"
      },
      "execution_count": null,
      "outputs": [
        {
          "output_type": "stream",
          "name": "stderr",
          "text": [
            "/usr/local/lib/python3.10/dist-packages/IPython/core/pylabtools.py:151: UserWarning: Creating legend with loc=\"best\" can be slow with large amounts of data.\n",
            "  fig.canvas.print_figure(bytes_io, **kw)\n"
          ]
        },
        {
          "output_type": "display_data",
          "data": {
            "text/plain": [
              "<Figure size 800x600 with 1 Axes>"
            ],
            "image/png": "[encoded data removed]"
          },
          "metadata": {}
        }
      ]
    },
    {
      "cell_type": "markdown",
      "source": [
        "## Ejemplo relevante"
      ],
      "metadata": {
        "id": "kKtabAT2CCjQ"
      }
    },
    {
      "cell_type": "markdown",
      "source": [
        "**Matriz de varianza-covarianza**\n",
        "\n",
        "Recordemos cómo se define esta matriz:\n",
        "\n",
        "Si $X$ es un vector aleatorio dado por\n",
        "\n",
        "$$ X = \\begin{bmatrix}\n",
        "X_{1}  \\\\\n",
        "\\vdots \\\\\n",
        "X_{n}  \\\\\n",
        "\\end{bmatrix} $$\n",
        "\n",
        "tal que $Var(X_{i})<∞$, entonces la matriz de varianza-covarianza $V(X)$ de tamaño $n \\times n$ se define como\n",
        "\n",
        "$$ V(X) = \\begin{bmatrix}\n",
        "Var(X_{1}) & Cov(X_{1},X_{2}) & \\cdots &  Cov(X_{1},X_{n}) \\\\\n",
        "Cov(X_{2},X_{1}) & Var(X_{2}) & \\cdots &  Cov(X_{2},X_{n})  \\\\\n",
        "\\vdots & \\vdots & \\ddots & \\vdots \\\\\n",
        "Cov(X_{n},X_{1}) & Cov(X_{n},X_{2}) & \\cdots &  Var(X_{n})  \\\\\n",
        "\\end{bmatrix} $$\n",
        "\n",
        "Dicha matriz cumple las siguientes propiedades:\n",
        "\n",
        "1.   Es una matriz simétrica\n",
        "2.   Es semidefinida positiva\n",
        "\n",
        "¡De modo que podemos definir un producto punto con esta matriz!\n",
        "\n",
        "Desarrollemos un poco la expresión de este producto punto:\n",
        "\n",
        "\\begin{eqnarray}\n",
        "\\langle x, y \\rangle_{V(X)}&=&x^{T}V(X)y \\\\\n",
        " & = &  \\begin{bmatrix}\n",
        "x_{1} & \\cdots & x_{n}  \\\\\n",
        "\\end{bmatrix} V(X) \\begin{bmatrix}\n",
        "y_{1}  \\\\\n",
        "\\vdots \\\\\n",
        "y_{n}  \\\\\n",
        "\\end{bmatrix} \\\\ \\\\\n",
        "&=& \\begin{bmatrix}\n",
        "x_{1}Cov(X_{1},X_{1})+\\ldots+x_{n}Cov(X_{n},X_{1}) & \\cdots & x_{1}Cov(X_{1},X_{n})+\\ldots+x_{n}Cov(X_{n},X_{n})  \\\\\n",
        "\\end{bmatrix} \\begin{bmatrix}\n",
        "y_{1}  \\\\\n",
        "\\vdots \\\\\n",
        "y_{n}  \\\\\n",
        "\\end{bmatrix} \\\\ \\\\\n",
        "& = & y_{1}[x_{1}Cov(X_{1},X_{1})+x_{2}Cov(X_{2},X_{1})+\\ldots+x_{n}Cov(X_{n},X_{1})] \\\\\n",
        "& + & y_{2}[x_{1}Cov(X_{1},X_{2})+x_{2}Cov(X_{2},X_{2})+\\ldots+x_{n}Cov(X_{n},X_{2})] \\\\\n",
        "& \\vdots & \\\\\n",
        "& + & y_{n}[x_{1}Cov(X_{1},X_{n})+x_{2}Cov(X_{2},X_{n})+\\ldots+x_{n}Cov(X_{n},X_{n})] \\\\\n",
        "& = & \\sum_{i=1}^{n} y_{1}x_{i}Cov(X_{i},X_{1}) + \\sum_{i=1}^{n} y_{2}x_{i}Cov(X_{i},X_{2}) + \\ldots + \\sum_{i=1}^{n} y_{n}x_{i}Cov(X_{i},X_{n}) \\\\\n",
        "& = & \\sum_{j=1}^{n}\\left[\\sum_{i=1}^{n} y_{j}x_{i}Cov(X_{i},X_{j})\\right]\n",
        "\\end{eqnarray}"
      ],
      "metadata": {
        "id": "gk5slirKDcKA"
      }
    },
    {
      "cell_type": "markdown",
      "source": [
        "**Pregunta:** ¿Qué pasa si suponemos que las variables aleatorias son independientes?"
      ],
      "metadata": {
        "id": "uiqFiJhHFRCf"
      }
    },
    {
      "cell_type": "markdown",
      "source": [
        "Si las variables aleatorias son independientes implica que\n",
        "$$ Cov(X_{i},X_{j}) = 0 \\quad \\mbox{para} \\quad i \\neq j$$\n",
        "Por lo que\n",
        "$$ V(X) = \\begin{bmatrix}\n",
        "Var(X_{1}) & 0 & \\cdots &  0 \\\\\n",
        "0 & Var(X_{2}) & \\cdots &  0  \\\\\n",
        "\\vdots & \\vdots & \\ddots & \\vdots \\\\\n",
        "0 & 0 & \\cdots &  Var(X_{n})  \\\\\n",
        "\\end{bmatrix} $$\n",
        "\n",
        "De esta forma al definir un producto punto la expresión que teníamos anteriormente se simplifica algo:\n",
        "\n",
        "$$ \\langle x, y \\rangle_{V(X)} = \\sum_{i=1}^{n} x_{i}y_{i}Cov(X_{i},X_{i}) = \\sum_{i=1}^{n} x_{i}y_{i}Var(X_{i}) $$\n",
        "\n",
        "Y la norma que produce este producto punto es:\n",
        "\n",
        "$$ ||x||_{V(X)} = \\sqrt{\\langle x, x \\rangle_{V(X)}} = \\sqrt{\\sum_{i=1}^{n} x_{i}^{2}Var(X_{i})} $$"
      ],
      "metadata": {
        "id": "j2hMlKOAmNoC"
      }
    },
    {
      "cell_type": "markdown",
      "source": [
        "## Relación con el análisis de datos"
      ],
      "metadata": {
        "id": "3pFQRzXetOt6"
      }
    },
    {
      "cell_type": "markdown",
      "source": [
        "Ya vimos que al utilizar la matriz de varianza-covarianza, podemos definir un producto punto y, por lo tanto, una norma y una métrica. Sin embargo, existe una métrica alternativa que no emplea directamente la matriz, sino su inversa. Esta métrica resulta útil en el análisis de datos y se presenta a continuación:"
      ],
      "metadata": {
        "id": "Tr0uR_-dAhbV"
      }
    },
    {
      "cell_type": "markdown",
      "source": [
        "**Distancia de Mahalanobis**\n",
        "\n",
        "Sean $X_{1}, X_{2}$\n",
        "variables aleatorias con la misma distribución de probabilidad, con matriz de varianza-covarianza $V(X)$. La *distancia de Mahalanobis* entre dichas variables se define como:\n",
        "\n",
        "$$ d_{M}(x_{1},x_{2}) = \\sqrt{(x_{1}-x_{2})^{T}[V(X)]^{-1}(x_{1}-x_{2})}  $$\n",
        "\n",
        "Donde $x_{1}$, $x_{2}$ son vectores de datos (muestras) de tamaño $n$, que representan dos puntos en el espacio multidimensional\n",
        "\n",
        "**Nota:** La distancia de Mahalanobis es una forma de determinar la similitud entre dos variables aleatorias."
      ],
      "metadata": {
        "id": "SJH6HXtb1UMU"
      }
    },
    {
      "cell_type": "markdown",
      "source": [
        "### Implementación de la distancia de Mahalanobis"
      ],
      "metadata": {
        "id": "ze3Y_w8O29WA"
      }
    },
    {
      "cell_type": "code",
      "source": [
        "# 1er forma\n",
        "def d_Mahalanobis(X:np.ndarray,matriz_covarianza:np.ndarray,Y:np.ndarray):\n",
        "  return np.sqrt((X-Y) @ np.linalg.inv(matriz_covarianza) @ (X-Y).T)"
      ],
      "metadata": {
        "id": "MU8GM8yi5bNs"
      },
      "execution_count": null,
      "outputs": []
    },
    {
      "cell_type": "code",
      "source": [
        "# 2da forma: Usamos la función \"scipy.spatial.distance.mahalanobis()\"\n",
        "def d_Mahalanobis2(x:list,y:list,matriz_covarianza:list):\n",
        "  return scipy.spatial.distance.mahalanobis(x,y,np.linalg.inv(matriz_covarianza))"
      ],
      "metadata": {
        "id": "U_SoY9O_MY9W"
      },
      "execution_count": null,
      "outputs": []
    },
    {
      "cell_type": "code",
      "source": [
        "# Ejemplo\n",
        "X = np.array([[2,5]])\n",
        "matriz_covarianza = np.array([[.5,0],[0,2]])\n",
        "Y = np.array([[3,6]])\n",
        "\n",
        "print(d_Mahalanobis(X, matriz_covarianza, Y)[0][0])\n",
        "print(d_Mahalanobis2([2,5],[3,6],[[.5,0],[0,2]]))"
      ],
      "metadata": {
        "colab": {
          "base_uri": "https://localhost:8080/"
        },
        "id": "86kA6rXD8zwM",
        "outputId": "2fa45f65-bcf2-4647-be3b-fbce3179740f"
      },
      "execution_count": null,
      "outputs": [
        {
          "output_type": "stream",
          "name": "stdout",
          "text": [
            "1.5811388300841898\n",
            "1.5811388300841898\n"
          ]
        }
      ]
    },
    {
      "cell_type": "markdown",
      "source": [
        "**¿Para qué se usa en el análisis de datos?**\n",
        "\n",
        "La distancia de Mahalanobis es útil para varios propósitos:\n",
        "\n",
        "- ***Detección de valores atípicos:*** Ayuda a identificar observaciones inusuales o valores atípicos en un conjunto de datos, teniendo en cuenta la correlación entre las variables y la distribución de los datos.\n",
        "\n",
        "- ***Agrupamiento (clustering):*** En algoritmos de agrupamiento, como el análisis de conglomerados (cluster analysis), la distancia de Mahalanobis puede ser utilizada para medir la similitud entre puntos en el espacio multidimensional, teniendo en cuenta la estructura de correlación.\n",
        "\n",
        "- ***Clasificación y reconocimiento de patrones:*** En técnicas de clasificación y reconocimiento de patrones, la distancia de Mahalanobis puede ser utilizada como una medida de similitud entre muestras, ajustando el modelo a la estructura de covarianza presente en los datos.\n",
        "\n",
        "- ***Análisis de componentes principales (PCA):*** En el análisis de componentes principales, que se utiliza para reducir la dimensionalidad de un conjunto de datos, la distancia de Mahalanobis puede utilizarse para transformar los datos en un nuevo espacio, teniendo en cuenta las relaciones entre las variables.\n",
        "\n",
        "- ***Análisis discriminante:*** En el análisis discriminante, que busca encontrar combinaciones lineales de variables que maximicen la separación entre clases, la distancia de Mahalanobis puede utilizarse para definir una métrica adecuada."
      ],
      "metadata": {
        "id": "DXvN7FtOFHyi"
      }
    },
    {
      "cell_type": "markdown",
      "source": [
        "Veamos algunos ejemplos:"
      ],
      "metadata": {
        "id": "wWv_4RqeFUbS"
      }
    },
    {
      "cell_type": "markdown",
      "source": [
        "### **Ejemplo: Detección de outliers**.\n",
        "En el siguiente ejemplo se presenta una tabla de datos con calificaciones de 10 alumnos, en donde utilizaremos la distancia de Mahalanobis para detectar \"outliers\", es decir, datos anormales dentro de un conjunto establecido.\n"
      ],
      "metadata": {
        "id": "KG42T5hrBrwc"
      }
    },
    {
      "cell_type": "code",
      "source": [
        "#Importamos la tabla de excel\n",
        "\n",
        "Ejemplo = pd.read_csv('/content/Ejemplo Estudiantes Outliers (1).csv', index_col=0)\n",
        "Ejemplo"
      ],
      "metadata": {
        "colab": {
          "base_uri": "https://localhost:8080/",
          "height": 394
        },
        "id": "hiD5mA0bQy-Q",
        "outputId": "db1363f4-3813-4483-c725-308e88a27aa5"
      },
      "execution_count": null,
      "outputs": [
        {
          "output_type": "execute_result",
          "data": {
            "text/plain": [
              "        Matematicas  Ciencias  Espanol  Historia  Deportes\n",
              "Nombre                                                    \n",
              "Lucia           7.0       6.5      9.2       8.6       8.0\n",
              "Pedro           7.5       9.4      7.3       7.0       7.0\n",
              "Ines            7.6       9.2      8.0       8.0       7.5\n",
              "Luis            5.0       6.5      6.5       7.0       9.0\n",
              "Andres          6.0       6.0      7.8       8.9       7.3\n",
              "Ana            13.0       9.6     15.0      14.0       6.5\n",
              "Carlos          6.3       6.4      8.2       9.0       7.2\n",
              "Jose            7.9      -3.0      7.5      -5.0       6.0\n",
              "Sonia           6.0       6.0      6.5       5.5       8.7\n",
              "Maria           6.8       7.2      8.7       9.0       7.0"
            ],
            "text/html": [
              "\n",
              "\n",
              "  <div id=\"df-de473b25-f46b-4f23-8f47-3c958094e97f\">\n",
              "    <div class=\"colab-df-container\">\n",
              "      <div>\n",
              "<style scoped>\n",
              "    .dataframe tbody tr th:only-of-type {\n",
              "        vertical-align: middle;\n",
              "    }\n",
              "\n",
              "    .dataframe tbody tr th {\n",
              "        vertical-align: top;\n",
              "    }\n",
              "\n",
              "    .dataframe thead th {\n",
              "        text-align: right;\n",
              "    }\n",
              "</style>\n",
              "<table border=\"1\" class=\"dataframe\">\n",
              "  <thead>\n",
              "    <tr style=\"text-align: right;\">\n",
              "      <th></th>\n",
              "      <th>Matematicas</th>\n",
              "      <th>Ciencias</th>\n",
              "      <th>Espanol</th>\n",
              "      <th>Historia</th>\n",
              "      <th>Deportes</th>\n",
              "    </tr>\n",
              "    <tr>\n",
              "      <th>Nombre</th>\n",
              "      <th></th>\n",
              "      <th></th>\n",
              "      <th></th>\n",
              "      <th></th>\n",
              "      <th></th>\n",
              "    </tr>\n",
              "  </thead>\n",
              "  <tbody>\n",
              "    <tr>\n",
              "      <th>Lucia</th>\n",
              "      <td>7.0</td>\n",
              "      <td>6.5</td>\n",
              "      <td>9.2</td>\n",
              "      <td>8.6</td>\n",
              "      <td>8.0</td>\n",
              "    </tr>\n",
              "    <tr>\n",
              "      <th>Pedro</th>\n",
              "      <td>7.5</td>\n",
              "      <td>9.4</td>\n",
              "      <td>7.3</td>\n",
              "      <td>7.0</td>\n",
              "      <td>7.0</td>\n",
              "    </tr>\n",
              "    <tr>\n",
              "      <th>Ines</th>\n",
              "      <td>7.6</td>\n",
              "      <td>9.2</td>\n",
              "      <td>8.0</td>\n",
              "      <td>8.0</td>\n",
              "      <td>7.5</td>\n",
              "    </tr>\n",
              "    <tr>\n",
              "      <th>Luis</th>\n",
              "      <td>5.0</td>\n",
              "      <td>6.5</td>\n",
              "      <td>6.5</td>\n",
              "      <td>7.0</td>\n",
              "      <td>9.0</td>\n",
              "    </tr>\n",
              "    <tr>\n",
              "      <th>Andres</th>\n",
              "      <td>6.0</td>\n",
              "      <td>6.0</td>\n",
              "      <td>7.8</td>\n",
              "      <td>8.9</td>\n",
              "      <td>7.3</td>\n",
              "    </tr>\n",
              "    <tr>\n",
              "      <th>Ana</th>\n",
              "      <td>13.0</td>\n",
              "      <td>9.6</td>\n",
              "      <td>15.0</td>\n",
              "      <td>14.0</td>\n",
              "      <td>6.5</td>\n",
              "    </tr>\n",
              "    <tr>\n",
              "      <th>Carlos</th>\n",
              "      <td>6.3</td>\n",
              "      <td>6.4</td>\n",
              "      <td>8.2</td>\n",
              "      <td>9.0</td>\n",
              "      <td>7.2</td>\n",
              "    </tr>\n",
              "    <tr>\n",
              "      <th>Jose</th>\n",
              "      <td>7.9</td>\n",
              "      <td>-3.0</td>\n",
              "      <td>7.5</td>\n",
              "      <td>-5.0</td>\n",
              "      <td>6.0</td>\n",
              "    </tr>\n",
              "    <tr>\n",
              "      <th>Sonia</th>\n",
              "      <td>6.0</td>\n",
              "      <td>6.0</td>\n",
              "      <td>6.5</td>\n",
              "      <td>5.5</td>\n",
              "      <td>8.7</td>\n",
              "    </tr>\n",
              "    <tr>\n",
              "      <th>Maria</th>\n",
              "      <td>6.8</td>\n",
              "      <td>7.2</td>\n",
              "      <td>8.7</td>\n",
              "      <td>9.0</td>\n",
              "      <td>7.0</td>\n",
              "    </tr>\n",
              "  </tbody>\n",
              "</table>\n",
              "</div>\n",
              "      <button class=\"colab-df-convert\" onclick=\"convertToInteractive('df-de473b25-f46b-4f23-8f47-3c958094e97f')\"\n",
              "              title=\"Convert this dataframe to an interactive table.\"\n",
              "              style=\"display:none;\">\n",
              "\n",
              "  <svg xmlns=\"http://www.w3.org/2000/svg\" height=\"24px\"viewBox=\"0 0 24 24\"\n",
              "       width=\"24px\">\n",
              "    <path d=\"M0 0h24v24H0V0z\" fill=\"none\"/>\n",
              "    <path d=\"M18.56 5.44l.94 2.06.94-2.06 2.06-.94-2.06-.94-.94-2.06-.94 2.06-2.06.94zm-11 1L8.5 8.5l.94-2.06 2.06-.94-2.06-.94L8.5 2.5l-.94 2.06-2.06.94zm10 10l.94 2.06.94-2.06 2.06-.94-2.06-.94-.94-2.06-.94 2.06-2.06.94z\"/><path d=\"M17.41 7.96l-1.37-1.37c-.4-.4-.92-.59-1.43-.59-.52 0-1.04.2-1.43.59L10.3 9.45l-7.72 7.72c-.78.78-.78 2.05 0 2.83L4 21.41c.39.39.9.59 1.41.59.51 0 1.02-.2 1.41-.59l7.78-7.78 2.81-2.81c.8-.78.8-2.07 0-2.86zM5.41 20L4 18.59l7.72-7.72 1.47 1.35L5.41 20z\"/>\n",
              "  </svg>\n",
              "      </button>\n",
              "\n",
              "\n",
              "\n",
              "    <div id=\"df-6fe13f76-0ccd-4a81-b77d-f9063160677c\">\n",
              "      <button class=\"colab-df-quickchart\" onclick=\"quickchart('df-6fe13f76-0ccd-4a81-b77d-f9063160677c')\"\n",
              "              title=\"Suggest charts.\"\n",
              "              style=\"display:none;\">\n",
              "\n",
              "<svg xmlns=\"http://www.w3.org/2000/svg\" height=\"24px\"viewBox=\"0 0 24 24\"\n",
              "     width=\"24px\">\n",
              "    <g>\n",
              "        <path d=\"M19 3H5c-1.1 0-2 .9-2 2v14c0 1.1.9 2 2 2h14c1.1 0 2-.9 2-2V5c0-1.1-.9-2-2-2zM9 17H7v-7h2v7zm4 0h-2V7h2v10zm4 0h-2v-4h2v4z\"/>\n",
              "    </g>\n",
              "</svg>\n",
              "      </button>\n",
              "    </div>\n",
              "\n",
              "<style>\n",
              "  .colab-df-quickchart {\n",
              "    background-color: #E8F0FE;\n",
              "    border: none;\n",
              "    border-radius: 50%;\n",
              "    cursor: pointer;\n",
              "    display: none;\n",
              "    fill: #1967D2;\n",
              "    height: 32px;\n",
              "    padding: 0 0 0 0;\n",
              "    width: 32px;\n",
              "  }\n",
              "\n",
              "  .colab-df-quickchart:hover {\n",
              "    background-color: #E2EBFA;\n",
              "    box-shadow: 0px 1px 2px rgba(60, 64, 67, 0.3), 0px 1px 3px 1px rgba(60, 64, 67, 0.15);\n",
              "    fill: #174EA6;\n",
              "  }\n",
              "\n",
              "  [theme=dark] .colab-df-quickchart {\n",
              "    background-color: #3B4455;\n",
              "    fill: #D2E3FC;\n",
              "  }\n",
              "\n",
              "  [theme=dark] .colab-df-quickchart:hover {\n",
              "    background-color: #434B5C;\n",
              "    box-shadow: 0px 1px 3px 1px rgba(0, 0, 0, 0.15);\n",
              "    filter: drop-shadow(0px 1px 2px rgba(0, 0, 0, 0.3));\n",
              "    fill: #FFFFFF;\n",
              "  }\n",
              "</style>\n",
              "\n",
              "    <script>\n",
              "      async function quickchart(key) {\n",
              "        const containerElement = document.querySelector('#' + key);\n",
              "        const charts = await google.colab.kernel.invokeFunction(\n",
              "            'suggestCharts', [key], {});\n",
              "      }\n",
              "    </script>\n",
              "\n",
              "      <script>\n",
              "\n",
              "function displayQuickchartButton(domScope) {\n",
              "  let quickchartButtonEl =\n",
              "    domScope.querySelector('#df-6fe13f76-0ccd-4a81-b77d-f9063160677c button.colab-df-quickchart');\n",
              "  quickchartButtonEl.style.display =\n",
              "    google.colab.kernel.accessAllowed ? 'block' : 'none';\n",
              "}\n",
              "\n",
              "        displayQuickchartButton(document);\n",
              "      </script>\n",
              "      <style>\n",
              "    .colab-df-container {\n",
              "      display:flex;\n",
              "      flex-wrap:wrap;\n",
              "      gap: 12px;\n",
              "    }\n",
              "\n",
              "    .colab-df-convert {\n",
              "      background-color: #E8F0FE;\n",
              "      border: none;\n",
              "      border-radius: 50%;\n",
              "      cursor: pointer;\n",
              "      display: none;\n",
              "      fill: #1967D2;\n",
              "      height: 32px;\n",
              "      padding: 0 0 0 0;\n",
              "      width: 32px;\n",
              "    }\n",
              "\n",
              "    .colab-df-convert:hover {\n",
              "      background-color: #E2EBFA;\n",
              "      box-shadow: 0px 1px 2px rgba(60, 64, 67, 0.3), 0px 1px 3px 1px rgba(60, 64, 67, 0.15);\n",
              "      fill: #174EA6;\n",
              "    }\n",
              "\n",
              "    [theme=dark] .colab-df-convert {\n",
              "      background-color: #3B4455;\n",
              "      fill: #D2E3FC;\n",
              "    }\n",
              "\n",
              "    [theme=dark] .colab-df-convert:hover {\n",
              "      background-color: #434B5C;\n",
              "      box-shadow: 0px 1px 3px 1px rgba(0, 0, 0, 0.15);\n",
              "      filter: drop-shadow(0px 1px 2px rgba(0, 0, 0, 0.3));\n",
              "      fill: #FFFFFF;\n",
              "    }\n",
              "  </style>\n",
              "\n",
              "      <script>\n",
              "        const buttonEl =\n",
              "          document.querySelector('#df-de473b25-f46b-4f23-8f47-3c958094e97f button.colab-df-convert');\n",
              "        buttonEl.style.display =\n",
              "          google.colab.kernel.accessAllowed ? 'block' : 'none';\n",
              "\n",
              "        async function convertToInteractive(key) {\n",
              "          const element = document.querySelector('#df-de473b25-f46b-4f23-8f47-3c958094e97f');\n",
              "          const dataTable =\n",
              "            await google.colab.kernel.invokeFunction('convertToInteractive',\n",
              "                                                     [key], {});\n",
              "          if (!dataTable) return;\n",
              "\n",
              "          const docLinkHtml = 'Like what you see? Visit the ' +\n",
              "            '<a target=\"_blank\" href=https://colab.research.google.com/notebooks/data_table.ipynb>data table notebook</a>'\n",
              "            + ' to learn more about interactive tables.';\n",
              "          element.innerHTML = '';\n",
              "          dataTable['output_type'] = 'display_data';\n",
              "          await google.colab.output.renderOutput(dataTable, element);\n",
              "          const docLink = document.createElement('div');\n",
              "          docLink.innerHTML = docLinkHtml;\n",
              "          element.appendChild(docLink);\n",
              "        }\n",
              "      </script>\n",
              "    </div>\n",
              "  </div>\n"
            ]
          },
          "metadata": {},
          "execution_count": 3
        }
      ]
    },
    {
      "cell_type": "markdown",
      "source": [
        "#### Grafica de las calificaciones\n",
        "<center>\n",
        "\n",
        "<img src = \"https://drive.google.com/uc?export=view&id=1Vn8dDBpSkIyehO1mAqotQno2Jx3TZOX7\"\n",
        "width = 80% height = 100%>\n",
        "\n",
        "</center>\n",
        "\n"
      ],
      "metadata": {
        "id": "vrr3poQnhTI4"
      }
    },
    {
      "cell_type": "markdown",
      "source": [
        "En este caso el rango establecido para las calificaciones es de 5 a 10 puntos, al tratarse de una tabla con pocos valores es fácil notar en que filas se encuentran valores que sobrepasan o estan fuera del rango. Pero como un buen ejemplo se mostrará como detectarlos."
      ],
      "metadata": {
        "id": "qeE_Xx1yZdiH"
      }
    },
    {
      "cell_type": "markdown",
      "source": [
        "**Observación:** Las distancias de Mahalanobis obtenidas tienen una distribución chi-cuadrada con $v$ grados de libertad. En este caso tiene una $p=1$ debido a que solo se tiene como variable la distancia de Mahalanobis."
      ],
      "metadata": {
        "id": "ThXS-G3ToXgV"
      }
    },
    {
      "cell_type": "markdown",
      "source": [
        "**Distancia de Mahalanobis Robusta.** \\\\\n",
        "Sirve para que el cálculo del vector promedio y la covarianza que se utiliza en la obtención de la distancia de Mahalanobis no se vean $n$ afectados por los outliers, se utiliza el *Determinate Minimo de la matriz de Covarianza o Minumum Covariance Dterminant* (MCD).\n"
      ],
      "metadata": {
        "id": "E0IHyglqu4kb"
      }
    },
    {
      "cell_type": "code",
      "source": [
        "#Convertimos el DataFrame a un array de NumPy\n",
        "\n",
        "Ejemplo_array =  Ejemplo.to_numpy()\n",
        "Ejemplo_array"
      ],
      "metadata": {
        "colab": {
          "base_uri": "https://localhost:8080/"
        },
        "id": "nKXd-S13vkFv",
        "outputId": "3181ea40-09e7-44d2-95a9-34a9209f1a41"
      },
      "execution_count": null,
      "outputs": [
        {
          "output_type": "execute_result",
          "data": {
            "text/plain": [
              "array([[ 7. ,  6.5,  9.2,  8.6,  8. ],\n",
              "       [ 7.5,  9.4,  7.3,  7. ,  7. ],\n",
              "       [ 7.6,  9.2,  8. ,  8. ,  7.5],\n",
              "       [ 5. ,  6.5,  6.5,  7. ,  9. ],\n",
              "       [ 6. ,  6. ,  7.8,  8.9,  7.3],\n",
              "       [13. ,  9.6, 15. , 14. ,  6.5],\n",
              "       [ 6.3,  6.4,  8.2,  9. ,  7.2],\n",
              "       [ 7.9, -3. ,  7.5, -5. ,  6. ],\n",
              "       [ 6. ,  6. ,  6.5,  5.5,  8.7],\n",
              "       [ 6.8,  7.2,  8.7,  9. ,  7. ]])"
            ]
          },
          "metadata": {},
          "execution_count": 11
        }
      ]
    },
    {
      "cell_type": "code",
      "source": [
        "#Ajustamos el estimador MCD a los datos para obtener la matriz de covarianza robusta\n",
        "mcd = MinCovDet().fit(Ejemplo_array)\n",
        "#Obtenemos el vector promedio de los datos que el mcd detecto excluyendo a los outliers\n",
        "mcd.location_"
      ],
      "metadata": {
        "colab": {
          "base_uri": "https://localhost:8080/"
        },
        "id": "qgrqCOa_v5TF",
        "outputId": "08849829-7e02-46ed-8ebc-1368597ad641"
      },
      "execution_count": null,
      "outputs": [
        {
          "output_type": "execute_result",
          "data": {
            "text/plain": [
              "array([6.525 , 7.15  , 7.775 , 7.875 , 7.7125])"
            ]
          },
          "metadata": {},
          "execution_count": 12
        }
      ]
    },
    {
      "cell_type": "code",
      "source": [
        "#Obtenemos la matiz de covarianza\n",
        "cov_robust = mcd.covariance_\n",
        "cov_robust\n",
        "\n",
        "#Calculamos la inversa de la covarianza robusta\n",
        "inv_cov_rob = np.linalg.inv(cov_robust)\n",
        "inv_cov_rob"
      ],
      "metadata": {
        "colab": {
          "base_uri": "https://localhost:8080/"
        },
        "id": "6Oj97Magw5m-",
        "outputId": "5a1d9de7-b5e4-4714-eb08-da6c8c3b4ae2"
      },
      "execution_count": null,
      "outputs": [
        {
          "output_type": "execute_result",
          "data": {
            "text/plain": [
              "array([[ 46.10734532, -14.33377607, -38.17686192,  24.21251522,\n",
              "         20.51752077],\n",
              "       [-14.33377607,   5.53290247,  11.54169715,  -6.6049435 ,\n",
              "         -4.77567041],\n",
              "       [-38.17686192,  11.54169715,  35.66297532, -22.67321964,\n",
              "        -17.06420304],\n",
              "       [ 24.21251522,  -6.6049435 , -22.67321964,  16.11697254,\n",
              "         13.19941284],\n",
              "       [ 20.51752077,  -4.77567041, -17.06420304,  13.19941284,\n",
              "         14.83478377]])"
            ]
          },
          "metadata": {},
          "execution_count": 13
        }
      ]
    },
    {
      "cell_type": "code",
      "source": [
        "# Obtenemos las distancias de Mahalanobis robustas utilizando el vector promedio y\n",
        "# la inversa de la matriz de covarianza que obtuvimos\n",
        "\n",
        "# Nota:\n",
        "# Parámetros de la función mahalanobis -> (vector_fila, vector_promedio, matriz_inversa robusta)\n",
        "\n",
        "# Creamos una lista para almacenar las distancias que se calcularán\n",
        "distancias = []\n",
        "# Obtenemos cada una de las filas del objeto Ejemplo_array y aplicamos la función mahalanobis\n",
        "for point in Ejemplo_array:\n",
        "  distancia = mahalanobis(point, mcd.location_, inv_cov_rob)\n",
        "  distancias.append(distancia)\n",
        "# append agrega los elementos calculados al final de la lista creada\n",
        "\n",
        "distancias"
      ],
      "metadata": {
        "colab": {
          "base_uri": "https://localhost:8080/"
        },
        "id": "Oa3Qe5AMxveh",
        "outputId": "79d4e9c9-5c73-4983-ec60-716ef22183df"
      },
      "execution_count": null,
      "outputs": [
        {
          "output_type": "execute_result",
          "data": {
            "text/plain": [
              "[2.3678841015862764,\n",
              " 2.26274039514452,\n",
              " 2.4143592727927685,\n",
              " 2.635623030695266,\n",
              " 2.105193030270907,\n",
              " 18.997746239867116,\n",
              " 1.3300261675087777,\n",
              " 37.78417337102941,\n",
              " 2.533708854624747,\n",
              " 1.9690107837747672]"
            ]
          },
          "metadata": {},
          "execution_count": 14
        }
      ]
    },
    {
      "cell_type": "markdown",
      "source": [
        "Las distancias más grandes correspondientes a los individuos 6 y 8 son mucho más grandes que las calculadas en los demás casos por lo cual se pueden diferenciar más fácilmente."
      ],
      "metadata": {
        "id": "eQ99VzO7m274"
      }
    },
    {
      "cell_type": "markdown",
      "source": [
        "Calculamos la probabilidad de que cada una de las distancias pertenezca a la distribución chi cuadrada:"
      ],
      "metadata": {
        "id": "yqsbMkEayjjt"
      }
    },
    {
      "cell_type": "code",
      "source": [
        "# Calculamos el complemento de la probabilidad\n",
        "\n",
        "p = 1 - chi2.cdf(distancias, 1 ) #Con un grado de libertad\n",
        "print(p)\n",
        "\n",
        "print(\"\\n\")\n",
        "# Establecemos el nivel del significancia\n",
        "outliers_rob = p<0.05\n",
        "print(outliers_rob)\n"
      ],
      "metadata": {
        "colab": {
          "base_uri": "https://localhost:8080/"
        },
        "id": "S5LPMHjwyveT",
        "outputId": "d07d61ee-ee72-403f-b0bc-1708608f0aaf"
      },
      "execution_count": null,
      "outputs": [
        {
          "output_type": "stream",
          "name": "stdout",
          "text": [
            "[1.23854823e-01 1.32519375e-01 1.20227153e-01 1.04491064e-01\n",
            " 1.46799817e-01 1.30872944e-05 2.48800563e-01 7.90202570e-10\n",
            " 1.11438009e-01 1.60552901e-01]\n",
            "\n",
            "\n",
            "[False False False False False  True False  True False False]\n"
          ]
        }
      ]
    },
    {
      "cell_type": "code",
      "source": [
        "# Ubicamos los indices en donde se ecuentran  los outliers\n",
        "indices_rob =np.where(outliers_rob)[0]\n",
        "indices_rob"
      ],
      "metadata": {
        "colab": {
          "base_uri": "https://localhost:8080/"
        },
        "id": "YEaXyUqr0II1",
        "outputId": "84ce618c-4d2f-44d0-d34c-88a123060704"
      },
      "execution_count": null,
      "outputs": [
        {
          "output_type": "execute_result",
          "data": {
            "text/plain": [
              "array([5, 7])"
            ]
          },
          "metadata": {},
          "execution_count": 16
        }
      ]
    },
    {
      "cell_type": "code",
      "source": [
        "# Obtenemos información de los outliers\n",
        "individuos_rob = Ejemplo.iloc[indices_rob]\n",
        "individuos_rob"
      ],
      "metadata": {
        "colab": {
          "base_uri": "https://localhost:8080/",
          "height": 144
        },
        "id": "7ORx4pJL0utW",
        "outputId": "3e87f3b1-e80d-42b5-b792-5ba2a9982621"
      },
      "execution_count": null,
      "outputs": [
        {
          "output_type": "execute_result",
          "data": {
            "text/plain": [
              "        Matematicas  Ciencias  Espanol  Historia  Deportes\n",
              "Nombre                                                    \n",
              "Ana            13.0       9.6     15.0      14.0       6.5\n",
              "Jose            7.9      -3.0      7.5      -5.0       6.0"
            ],
            "text/html": [
              "\n",
              "\n",
              "  <div id=\"df-35092491-4c04-4a71-b19b-762cb1acb8b7\">\n",
              "    <div class=\"colab-df-container\">\n",
              "      <div>\n",
              "<style scoped>\n",
              "    .dataframe tbody tr th:only-of-type {\n",
              "        vertical-align: middle;\n",
              "    }\n",
              "\n",
              "    .dataframe tbody tr th {\n",
              "        vertical-align: top;\n",
              "    }\n",
              "\n",
              "    .dataframe thead th {\n",
              "        text-align: right;\n",
              "    }\n",
              "</style>\n",
              "<table border=\"1\" class=\"dataframe\">\n",
              "  <thead>\n",
              "    <tr style=\"text-align: right;\">\n",
              "      <th></th>\n",
              "      <th>Matematicas</th>\n",
              "      <th>Ciencias</th>\n",
              "      <th>Espanol</th>\n",
              "      <th>Historia</th>\n",
              "      <th>Deportes</th>\n",
              "    </tr>\n",
              "    <tr>\n",
              "      <th>Nombre</th>\n",
              "      <th></th>\n",
              "      <th></th>\n",
              "      <th></th>\n",
              "      <th></th>\n",
              "      <th></th>\n",
              "    </tr>\n",
              "  </thead>\n",
              "  <tbody>\n",
              "    <tr>\n",
              "      <th>Ana</th>\n",
              "      <td>13.0</td>\n",
              "      <td>9.6</td>\n",
              "      <td>15.0</td>\n",
              "      <td>14.0</td>\n",
              "      <td>6.5</td>\n",
              "    </tr>\n",
              "    <tr>\n",
              "      <th>Jose</th>\n",
              "      <td>7.9</td>\n",
              "      <td>-3.0</td>\n",
              "      <td>7.5</td>\n",
              "      <td>-5.0</td>\n",
              "      <td>6.0</td>\n",
              "    </tr>\n",
              "  </tbody>\n",
              "</table>\n",
              "</div>\n",
              "      <button class=\"colab-df-convert\" onclick=\"convertToInteractive('df-35092491-4c04-4a71-b19b-762cb1acb8b7')\"\n",
              "              title=\"Convert this dataframe to an interactive table.\"\n",
              "              style=\"display:none;\">\n",
              "\n",
              "  <svg xmlns=\"http://www.w3.org/2000/svg\" height=\"24px\"viewBox=\"0 0 24 24\"\n",
              "       width=\"24px\">\n",
              "    <path d=\"M0 0h24v24H0V0z\" fill=\"none\"/>\n",
              "    <path d=\"M18.56 5.44l.94 2.06.94-2.06 2.06-.94-2.06-.94-.94-2.06-.94 2.06-2.06.94zm-11 1L8.5 8.5l.94-2.06 2.06-.94-2.06-.94L8.5 2.5l-.94 2.06-2.06.94zm10 10l.94 2.06.94-2.06 2.06-.94-2.06-.94-.94-2.06-.94 2.06-2.06.94z\"/><path d=\"M17.41 7.96l-1.37-1.37c-.4-.4-.92-.59-1.43-.59-.52 0-1.04.2-1.43.59L10.3 9.45l-7.72 7.72c-.78.78-.78 2.05 0 2.83L4 21.41c.39.39.9.59 1.41.59.51 0 1.02-.2 1.41-.59l7.78-7.78 2.81-2.81c.8-.78.8-2.07 0-2.86zM5.41 20L4 18.59l7.72-7.72 1.47 1.35L5.41 20z\"/>\n",
              "  </svg>\n",
              "      </button>\n",
              "\n",
              "\n",
              "\n",
              "    <div id=\"df-649817c0-6b13-431a-ad0b-04a844d32eeb\">\n",
              "      <button class=\"colab-df-quickchart\" onclick=\"quickchart('df-649817c0-6b13-431a-ad0b-04a844d32eeb')\"\n",
              "              title=\"Suggest charts.\"\n",
              "              style=\"display:none;\">\n",
              "\n",
              "<svg xmlns=\"http://www.w3.org/2000/svg\" height=\"24px\"viewBox=\"0 0 24 24\"\n",
              "     width=\"24px\">\n",
              "    <g>\n",
              "        <path d=\"M19 3H5c-1.1 0-2 .9-2 2v14c0 1.1.9 2 2 2h14c1.1 0 2-.9 2-2V5c0-1.1-.9-2-2-2zM9 17H7v-7h2v7zm4 0h-2V7h2v10zm4 0h-2v-4h2v4z\"/>\n",
              "    </g>\n",
              "</svg>\n",
              "      </button>\n",
              "    </div>\n",
              "\n",
              "<style>\n",
              "  .colab-df-quickchart {\n",
              "    background-color: #E8F0FE;\n",
              "    border: none;\n",
              "    border-radius: 50%;\n",
              "    cursor: pointer;\n",
              "    display: none;\n",
              "    fill: #1967D2;\n",
              "    height: 32px;\n",
              "    padding: 0 0 0 0;\n",
              "    width: 32px;\n",
              "  }\n",
              "\n",
              "  .colab-df-quickchart:hover {\n",
              "    background-color: #E2EBFA;\n",
              "    box-shadow: 0px 1px 2px rgba(60, 64, 67, 0.3), 0px 1px 3px 1px rgba(60, 64, 67, 0.15);\n",
              "    fill: #174EA6;\n",
              "  }\n",
              "\n",
              "  [theme=dark] .colab-df-quickchart {\n",
              "    background-color: #3B4455;\n",
              "    fill: #D2E3FC;\n",
              "  }\n",
              "\n",
              "  [theme=dark] .colab-df-quickchart:hover {\n",
              "    background-color: #434B5C;\n",
              "    box-shadow: 0px 1px 3px 1px rgba(0, 0, 0, 0.15);\n",
              "    filter: drop-shadow(0px 1px 2px rgba(0, 0, 0, 0.3));\n",
              "    fill: #FFFFFF;\n",
              "  }\n",
              "</style>\n",
              "\n",
              "    <script>\n",
              "      async function quickchart(key) {\n",
              "        const containerElement = document.querySelector('#' + key);\n",
              "        const charts = await google.colab.kernel.invokeFunction(\n",
              "            'suggestCharts', [key], {});\n",
              "      }\n",
              "    </script>\n",
              "\n",
              "      <script>\n",
              "\n",
              "function displayQuickchartButton(domScope) {\n",
              "  let quickchartButtonEl =\n",
              "    domScope.querySelector('#df-649817c0-6b13-431a-ad0b-04a844d32eeb button.colab-df-quickchart');\n",
              "  quickchartButtonEl.style.display =\n",
              "    google.colab.kernel.accessAllowed ? 'block' : 'none';\n",
              "}\n",
              "\n",
              "        displayQuickchartButton(document);\n",
              "      </script>\n",
              "      <style>\n",
              "    .colab-df-container {\n",
              "      display:flex;\n",
              "      flex-wrap:wrap;\n",
              "      gap: 12px;\n",
              "    }\n",
              "\n",
              "    .colab-df-convert {\n",
              "      background-color: #E8F0FE;\n",
              "      border: none;\n",
              "      border-radius: 50%;\n",
              "      cursor: pointer;\n",
              "      display: none;\n",
              "      fill: #1967D2;\n",
              "      height: 32px;\n",
              "      padding: 0 0 0 0;\n",
              "      width: 32px;\n",
              "    }\n",
              "\n",
              "    .colab-df-convert:hover {\n",
              "      background-color: #E2EBFA;\n",
              "      box-shadow: 0px 1px 2px rgba(60, 64, 67, 0.3), 0px 1px 3px 1px rgba(60, 64, 67, 0.15);\n",
              "      fill: #174EA6;\n",
              "    }\n",
              "\n",
              "    [theme=dark] .colab-df-convert {\n",
              "      background-color: #3B4455;\n",
              "      fill: #D2E3FC;\n",
              "    }\n",
              "\n",
              "    [theme=dark] .colab-df-convert:hover {\n",
              "      background-color: #434B5C;\n",
              "      box-shadow: 0px 1px 3px 1px rgba(0, 0, 0, 0.15);\n",
              "      filter: drop-shadow(0px 1px 2px rgba(0, 0, 0, 0.3));\n",
              "      fill: #FFFFFF;\n",
              "    }\n",
              "  </style>\n",
              "\n",
              "      <script>\n",
              "        const buttonEl =\n",
              "          document.querySelector('#df-35092491-4c04-4a71-b19b-762cb1acb8b7 button.colab-df-convert');\n",
              "        buttonEl.style.display =\n",
              "          google.colab.kernel.accessAllowed ? 'block' : 'none';\n",
              "\n",
              "        async function convertToInteractive(key) {\n",
              "          const element = document.querySelector('#df-35092491-4c04-4a71-b19b-762cb1acb8b7');\n",
              "          const dataTable =\n",
              "            await google.colab.kernel.invokeFunction('convertToInteractive',\n",
              "                                                     [key], {});\n",
              "          if (!dataTable) return;\n",
              "\n",
              "          const docLinkHtml = 'Like what you see? Visit the ' +\n",
              "            '<a target=\"_blank\" href=https://colab.research.google.com/notebooks/data_table.ipynb>data table notebook</a>'\n",
              "            + ' to learn more about interactive tables.';\n",
              "          element.innerHTML = '';\n",
              "          dataTable['output_type'] = 'display_data';\n",
              "          await google.colab.output.renderOutput(dataTable, element);\n",
              "          const docLink = document.createElement('div');\n",
              "          docLink.innerHTML = docLinkHtml;\n",
              "          element.appendChild(docLink);\n",
              "        }\n",
              "      </script>\n",
              "    </div>\n",
              "  </div>\n"
            ]
          },
          "metadata": {},
          "execution_count": 17
        }
      ]
    },
    {
      "cell_type": "markdown",
      "source": [
        "El resultado final con el código realizado, muestra las filas con los nombres de los estudiantes y sus respectivas calificaciones con \"outliers\", es decir, calificaciones que están fuera del rango razonable establecido y que posiblemente fueron llenadas de esta manera erróneamente por tener calificaciones negativas o mayores a 10 y tendrán que ser corregidas."
      ],
      "metadata": {
        "id": "CPSZ9leKBzsq"
      }
    },
    {
      "cell_type": "markdown",
      "source": [
        "### **Ejemplo: Distancias entre muestras de cráneos egipcios**"
      ],
      "metadata": {
        "id": "upV7HxNH3HMJ"
      }
    },
    {
      "cell_type": "markdown",
      "source": [
        "Para este ejemplo usaremos unos datos que vienen en el libro \"*Multivariate statistical methods*\" de Bryan F.J. Manly, los cuales son mediciones realizadas en cráneos masculinos del área de Tebas en Egipto. Hay cinco muestras de 30 cráneos cada una, correspondientes a los siguientes periodos:\n",
        "\n",
        "1. Periodo predinástico temprano (circa 4000 a.C.)\n",
        "2. Periodo predinástico tardío (circa 3300 a.C.)\n",
        "3. Dinastías 12 y 13 (circa 1850 a.C.)\n",
        "4. Periodo Ptolemaico (circa 200 a.C.)\n",
        "5. Periodo Romano (circa 150 d.C.)\n",
        "\n",
        "Cuatro mediciones están disponibles para cada cráneo."
      ],
      "metadata": {
        "id": "R0XwUAuB0B0T"
      }
    },
    {
      "cell_type": "code",
      "source": [
        "# Leemos los datos correspondientes a cada muestra\n",
        "muestra1 = pd.read_excel(\"egyptian_skulls.xlsx\",sheet_name=\"muestra1\")\n",
        "muestra1=muestra1[[\"x1\",\"x2\",\"x3\",\"x4\"]]\n",
        "\n",
        "muestra2 = pd.read_excel(\"egyptian_skulls.xlsx\",sheet_name=\"muestra2\")\n",
        "muestra2=muestra2[[\"x1\",\"x2\",\"x3\",\"x4\"]]\n",
        "\n",
        "muestra3 = pd.read_excel(\"egyptian_skulls.xlsx\",sheet_name=\"muestra3\")\n",
        "muestra3=muestra3[[\"x1\",\"x2\",\"x3\",\"x4\"]]\n",
        "\n",
        "muestra4 = pd.read_excel(\"egyptian_skulls.xlsx\",sheet_name=\"muestra4\")\n",
        "muestra4=muestra4[[\"x1\",\"x2\",\"x3\",\"x4\"]]\n",
        "\n",
        "muestra5 = pd.read_excel(\"egyptian_skulls.xlsx\",sheet_name=\"muestra5\")\n",
        "muestra5=muestra5[[\"x1\",\"x2\",\"x3\",\"x4\"]]"
      ],
      "metadata": {
        "id": "g4nlmuRWgidE"
      },
      "execution_count": null,
      "outputs": []
    },
    {
      "cell_type": "code",
      "source": [
        "# Obtenemos la matriz de covarianza para cada muestra\n",
        "cov_muestra1 = np.round(muestra1.cov().values,decimals=2)\n",
        "cov_muestra2 = np.round(muestra2.cov().values,decimals=2)\n",
        "cov_muestra3 = np.round(muestra3.cov().values,decimals=2)\n",
        "cov_muestra4 = np.round(muestra4.cov().values,decimals=2)\n",
        "cov_muestra5 = np.round(muestra5.cov().values,decimals=2)"
      ],
      "metadata": {
        "id": "mhlkTO9Ug3MF"
      },
      "execution_count": null,
      "outputs": []
    },
    {
      "cell_type": "markdown",
      "source": [
        "Teniendo estas matrices obtendremos la ***matriz de covarianza combinada***, ya que se usa particularmente en problemas de clasificación o discriminación, donde se deben comparar o clasificar diferentes grupos o categorías de datos.\n",
        "\n",
        "Dicha matriz se define como\n",
        "\n",
        "$$ C = \\sum_{i=1}^{m}\\frac{n_{i}-1}{n-m}C_{i}$$\n",
        "\n",
        "donde\n",
        "\n",
        "- $n_{i}$ es el tamaño de la $i-$ésima muestra.\n",
        "\n",
        "- $C_{i}$ es la matriz de covarianza de la $i-$ésima muestra.\n",
        "\n",
        "- $n=\\sum n_{i}$ es el número total de observaciones.\n",
        "\n",
        "- $m$ es el número de muestras.\n",
        "\n"
      ],
      "metadata": {
        "id": "iAGYa6kn2r9q"
      }
    },
    {
      "cell_type": "code",
      "source": [
        "# Calculamos la matriz de covarianza combinada\n",
        "# Aquí n = 20, m = 5 y n_i = 4 (para todo i)\n",
        "mcov_combinada = (3/15)*(cov_muestra1+cov_muestra2+cov_muestra3+cov_muestra4+cov_muestra5)"
      ],
      "metadata": {
        "id": "MyG_Ngg1iMcm"
      },
      "execution_count": null,
      "outputs": []
    },
    {
      "cell_type": "code",
      "source": [
        "# De nuestros datos leemos los vectores de medias de cada muestra\n",
        "vec_medias = pd.read_excel(\"egyptian_skulls.xlsx\",sheet_name=\"vec_medias\")\n",
        "vec_medias=vec_medias[[\"x1\",\"x2\",\"x3\",\"x4\"]].values"
      ],
      "metadata": {
        "id": "L7z3yY7HjQj2"
      },
      "execution_count": null,
      "outputs": []
    },
    {
      "cell_type": "code",
      "source": [
        "# Vector de medias de cada muestra\n",
        "# Los convertimos a un array de tamaño 1x4\n",
        "vec_medias_m1=vec_medias[0].reshape(1,4)\n",
        "vec_medias_m2=vec_medias[1].reshape(1,4)\n",
        "vec_medias_m3=vec_medias[2].reshape(1,4)\n",
        "vec_medias_m4=vec_medias[3].reshape(1,4)\n",
        "vec_medias_m5=vec_medias[4].reshape(1,4)\n",
        "\n",
        "dif_medias_m1_m2 = vec_medias_m1-vec_medias_m2\n",
        "dif_medias_m1_m3 = vec_medias_m1-vec_medias_m3\n",
        "dif_medias_m1_m4 = vec_medias_m1-vec_medias_m4\n",
        "dif_medias_m1_m5 = vec_medias_m1-vec_medias_m5\n",
        "\n",
        "dif_medias_m2_m3 = vec_medias_m2-vec_medias_m3\n",
        "dif_medias_m2_m4 = vec_medias_m2-vec_medias_m4\n",
        "dif_medias_m2_m5 = vec_medias_m2-vec_medias_m5\n",
        "\n",
        "dif_medias_m3_m4 = vec_medias_m3-vec_medias_m4\n",
        "dif_medias_m3_m5 = vec_medias_m3-vec_medias_m5\n",
        "\n",
        "dif_medias_m4_m5 = vec_medias_m4-vec_medias_m5"
      ],
      "metadata": {
        "id": "FspuZQyhkCJn"
      },
      "execution_count": null,
      "outputs": []
    },
    {
      "cell_type": "code",
      "source": [
        "# Calculamos la distancia de Mahalanobis (al cuadrado) entre los vectores de medias de cada muestra\n",
        "result_1 = np.round(dif_medias_m1_m2 @ np.linalg.inv(mcov_combinada) @ dif_medias_m1_m2.T, decimals=3)\n",
        "result_2 = np.round(dif_medias_m1_m3 @ np.linalg.inv(mcov_combinada) @ dif_medias_m1_m3.T, decimals=3)\n",
        "result_3 = np.round(dif_medias_m1_m4 @ np.linalg.inv(mcov_combinada) @ dif_medias_m1_m4.T, decimals=3)\n",
        "result_4 = np.round(dif_medias_m1_m5 @ np.linalg.inv(mcov_combinada) @ dif_medias_m1_m5.T, decimals=3)\n",
        "result_5 = np.round(dif_medias_m2_m3 @ np.linalg.inv(mcov_combinada) @ dif_medias_m2_m3.T, decimals=3)\n",
        "result_6 = np.round(dif_medias_m2_m4 @ np.linalg.inv(mcov_combinada) @ dif_medias_m2_m4.T, decimals=3)\n",
        "result_7 = np.round(dif_medias_m2_m5 @ np.linalg.inv(mcov_combinada) @ dif_medias_m2_m5.T, decimals=3)\n",
        "result_8 = np.round(dif_medias_m3_m4 @ np.linalg.inv(mcov_combinada) @ dif_medias_m3_m4.T, decimals=3)\n",
        "result_9 = np.round(dif_medias_m3_m5 @ np.linalg.inv(mcov_combinada) @ dif_medias_m3_m5.T, decimals=3)\n",
        "result_10 = np.round(dif_medias_m4_m5 @ np.linalg.inv(mcov_combinada) @ dif_medias_m4_m5.T, decimals=3)"
      ],
      "metadata": {
        "id": "wuSzhrAfxSaz"
      },
      "execution_count": null,
      "outputs": []
    },
    {
      "cell_type": "code",
      "source": [
        "# Visualizamos las distancias entre cada muestra en un dataframe\n",
        "m_distancias = {\n",
        "    'Muestra': ['Periodo predinástico temprano', 'Periodo predinástico tardío', 'Dinastías 12 y 13', 'Periodo Ptolemaico','Periodo Romano'],\n",
        "    'Periodo predinástico temprano': ['-', result_1[0][0], result_2[0][0],result_3[0][0],result_4[0][0]],\n",
        "    'Periodo predinástico tardío': ['-', '-', result_5[0][0], result_6[0][0],result_7[0][0]],\n",
        "    'Dinastías 12 y 13': ['-', '-', '-', result_8[0][0],result_9[0][0]],\n",
        "    'Periodo Ptolemaico': ['-', '-', '-', '-',result_10[0][0]],\n",
        "    'Periodo Romano': ['-', '-', '-', '-','-']\n",
        "}\n",
        "\n",
        "m_distancias_df = pd.DataFrame(m_distancias)\n",
        "\n",
        "# Esto es para establecer la columna 'Muestra' como índice\n",
        "m_distancias_df .set_index('Muestra', inplace=True)\n",
        "\n",
        "m_distancias_df"
      ],
      "metadata": {
        "colab": {
          "base_uri": "https://localhost:8080/",
          "height": 238
        },
        "id": "8TWk-_wtvmYs",
        "outputId": "7d384cf2-47c9-4e69-d666-2f5403fe7b01"
      },
      "execution_count": null,
      "outputs": [
        {
          "output_type": "execute_result",
          "data": {
            "text/plain": [
              "                              Periodo predinástico temprano  \\\n",
              "Muestra                                                       \n",
              "Periodo predinástico temprano                             -   \n",
              "Periodo predinástico tardío                           0.091   \n",
              "Dinastías 12 y 13                                     0.903   \n",
              "Periodo Ptolemaico                                    1.881   \n",
              "Periodo Romano                                        2.697   \n",
              "\n",
              "                              Periodo predinástico tardío Dinastías 12 y 13  \\\n",
              "Muestra                                                                       \n",
              "Periodo predinástico temprano                           -                 -   \n",
              "Periodo predinástico tardío                             -                 -   \n",
              "Dinastías 12 y 13                                   0.729                 -   \n",
              "Periodo Ptolemaico                                  1.594             0.443   \n",
              "Periodo Romano                                      2.176             0.911   \n",
              "\n",
              "                              Periodo Ptolemaico Periodo Romano  \n",
              "Muestra                                                          \n",
              "Periodo predinástico temprano                  -              -  \n",
              "Periodo predinástico tardío                    -              -  \n",
              "Dinastías 12 y 13                              -              -  \n",
              "Periodo Ptolemaico                             -              -  \n",
              "Periodo Romano                             0.219              -  "
            ],
            "text/html": [
              "\n",
              "\n",
              "  <div id=\"df-60bde783-50e2-416d-91a5-07c8a5d22264\">\n",
              "    <div class=\"colab-df-container\">\n",
              "      <div>\n",
              "<style scoped>\n",
              "    .dataframe tbody tr th:only-of-type {\n",
              "        vertical-align: middle;\n",
              "    }\n",
              "\n",
              "    .dataframe tbody tr th {\n",
              "        vertical-align: top;\n",
              "    }\n",
              "\n",
              "    .dataframe thead th {\n",
              "        text-align: right;\n",
              "    }\n",
              "</style>\n",
              "<table border=\"1\" class=\"dataframe\">\n",
              "  <thead>\n",
              "    <tr style=\"text-align: right;\">\n",
              "      <th></th>\n",
              "      <th>Periodo predinástico temprano</th>\n",
              "      <th>Periodo predinástico tardío</th>\n",
              "      <th>Dinastías 12 y 13</th>\n",
              "      <th>Periodo Ptolemaico</th>\n",
              "      <th>Periodo Romano</th>\n",
              "    </tr>\n",
              "    <tr>\n",
              "      <th>Muestra</th>\n",
              "      <th></th>\n",
              "      <th></th>\n",
              "      <th></th>\n",
              "      <th></th>\n",
              "      <th></th>\n",
              "    </tr>\n",
              "  </thead>\n",
              "  <tbody>\n",
              "    <tr>\n",
              "      <th>Periodo predinástico temprano</th>\n",
              "      <td>-</td>\n",
              "      <td>-</td>\n",
              "      <td>-</td>\n",
              "      <td>-</td>\n",
              "      <td>-</td>\n",
              "    </tr>\n",
              "    <tr>\n",
              "      <th>Periodo predinástico tardío</th>\n",
              "      <td>0.091</td>\n",
              "      <td>-</td>\n",
              "      <td>-</td>\n",
              "      <td>-</td>\n",
              "      <td>-</td>\n",
              "    </tr>\n",
              "    <tr>\n",
              "      <th>Dinastías 12 y 13</th>\n",
              "      <td>0.903</td>\n",
              "      <td>0.729</td>\n",
              "      <td>-</td>\n",
              "      <td>-</td>\n",
              "      <td>-</td>\n",
              "    </tr>\n",
              "    <tr>\n",
              "      <th>Periodo Ptolemaico</th>\n",
              "      <td>1.881</td>\n",
              "      <td>1.594</td>\n",
              "      <td>0.443</td>\n",
              "      <td>-</td>\n",
              "      <td>-</td>\n",
              "    </tr>\n",
              "    <tr>\n",
              "      <th>Periodo Romano</th>\n",
              "      <td>2.697</td>\n",
              "      <td>2.176</td>\n",
              "      <td>0.911</td>\n",
              "      <td>0.219</td>\n",
              "      <td>-</td>\n",
              "    </tr>\n",
              "  </tbody>\n",
              "</table>\n",
              "</div>\n",
              "      <button class=\"colab-df-convert\" onclick=\"convertToInteractive('df-60bde783-50e2-416d-91a5-07c8a5d22264')\"\n",
              "              title=\"Convert this dataframe to an interactive table.\"\n",
              "              style=\"display:none;\">\n",
              "\n",
              "  <svg xmlns=\"http://www.w3.org/2000/svg\" height=\"24px\"viewBox=\"0 0 24 24\"\n",
              "       width=\"24px\">\n",
              "    <path d=\"M0 0h24v24H0V0z\" fill=\"none\"/>\n",
              "    <path d=\"M18.56 5.44l.94 2.06.94-2.06 2.06-.94-2.06-.94-.94-2.06-.94 2.06-2.06.94zm-11 1L8.5 8.5l.94-2.06 2.06-.94-2.06-.94L8.5 2.5l-.94 2.06-2.06.94zm10 10l.94 2.06.94-2.06 2.06-.94-2.06-.94-.94-2.06-.94 2.06-2.06.94z\"/><path d=\"M17.41 7.96l-1.37-1.37c-.4-.4-.92-.59-1.43-.59-.52 0-1.04.2-1.43.59L10.3 9.45l-7.72 7.72c-.78.78-.78 2.05 0 2.83L4 21.41c.39.39.9.59 1.41.59.51 0 1.02-.2 1.41-.59l7.78-7.78 2.81-2.81c.8-.78.8-2.07 0-2.86zM5.41 20L4 18.59l7.72-7.72 1.47 1.35L5.41 20z\"/>\n",
              "  </svg>\n",
              "      </button>\n",
              "\n",
              "\n",
              "\n",
              "    <div id=\"df-348afc58-e510-4659-bd79-4dfb6ab4bb14\">\n",
              "      <button class=\"colab-df-quickchart\" onclick=\"quickchart('df-348afc58-e510-4659-bd79-4dfb6ab4bb14')\"\n",
              "              title=\"Suggest charts.\"\n",
              "              style=\"display:none;\">\n",
              "\n",
              "<svg xmlns=\"http://www.w3.org/2000/svg\" height=\"24px\"viewBox=\"0 0 24 24\"\n",
              "     width=\"24px\">\n",
              "    <g>\n",
              "        <path d=\"M19 3H5c-1.1 0-2 .9-2 2v14c0 1.1.9 2 2 2h14c1.1 0 2-.9 2-2V5c0-1.1-.9-2-2-2zM9 17H7v-7h2v7zm4 0h-2V7h2v10zm4 0h-2v-4h2v4z\"/>\n",
              "    </g>\n",
              "</svg>\n",
              "      </button>\n",
              "    </div>\n",
              "\n",
              "<style>\n",
              "  .colab-df-quickchart {\n",
              "    background-color: #E8F0FE;\n",
              "    border: none;\n",
              "    border-radius: 50%;\n",
              "    cursor: pointer;\n",
              "    display: none;\n",
              "    fill: #1967D2;\n",
              "    height: 32px;\n",
              "    padding: 0 0 0 0;\n",
              "    width: 32px;\n",
              "  }\n",
              "\n",
              "  .colab-df-quickchart:hover {\n",
              "    background-color: #E2EBFA;\n",
              "    box-shadow: 0px 1px 2px rgba(60, 64, 67, 0.3), 0px 1px 3px 1px rgba(60, 64, 67, 0.15);\n",
              "    fill: #174EA6;\n",
              "  }\n",
              "\n",
              "  [theme=dark] .colab-df-quickchart {\n",
              "    background-color: #3B4455;\n",
              "    fill: #D2E3FC;\n",
              "  }\n",
              "\n",
              "  [theme=dark] .colab-df-quickchart:hover {\n",
              "    background-color: #434B5C;\n",
              "    box-shadow: 0px 1px 3px 1px rgba(0, 0, 0, 0.15);\n",
              "    filter: drop-shadow(0px 1px 2px rgba(0, 0, 0, 0.3));\n",
              "    fill: #FFFFFF;\n",
              "  }\n",
              "</style>\n",
              "\n",
              "    <script>\n",
              "      async function quickchart(key) {\n",
              "        const containerElement = document.querySelector('#' + key);\n",
              "        const charts = await google.colab.kernel.invokeFunction(\n",
              "            'suggestCharts', [key], {});\n",
              "      }\n",
              "    </script>\n",
              "\n",
              "      <script>\n",
              "\n",
              "function displayQuickchartButton(domScope) {\n",
              "  let quickchartButtonEl =\n",
              "    domScope.querySelector('#df-348afc58-e510-4659-bd79-4dfb6ab4bb14 button.colab-df-quickchart');\n",
              "  quickchartButtonEl.style.display =\n",
              "    google.colab.kernel.accessAllowed ? 'block' : 'none';\n",
              "}\n",
              "\n",
              "        displayQuickchartButton(document);\n",
              "      </script>\n",
              "      <style>\n",
              "    .colab-df-container {\n",
              "      display:flex;\n",
              "      flex-wrap:wrap;\n",
              "      gap: 12px;\n",
              "    }\n",
              "\n",
              "    .colab-df-convert {\n",
              "      background-color: #E8F0FE;\n",
              "      border: none;\n",
              "      border-radius: 50%;\n",
              "      cursor: pointer;\n",
              "      display: none;\n",
              "      fill: #1967D2;\n",
              "      height: 32px;\n",
              "      padding: 0 0 0 0;\n",
              "      width: 32px;\n",
              "    }\n",
              "\n",
              "    .colab-df-convert:hover {\n",
              "      background-color: #E2EBFA;\n",
              "      box-shadow: 0px 1px 2px rgba(60, 64, 67, 0.3), 0px 1px 3px 1px rgba(60, 64, 67, 0.15);\n",
              "      fill: #174EA6;\n",
              "    }\n",
              "\n",
              "    [theme=dark] .colab-df-convert {\n",
              "      background-color: #3B4455;\n",
              "      fill: #D2E3FC;\n",
              "    }\n",
              "\n",
              "    [theme=dark] .colab-df-convert:hover {\n",
              "      background-color: #434B5C;\n",
              "      box-shadow: 0px 1px 3px 1px rgba(0, 0, 0, 0.15);\n",
              "      filter: drop-shadow(0px 1px 2px rgba(0, 0, 0, 0.3));\n",
              "      fill: #FFFFFF;\n",
              "    }\n",
              "  </style>\n",
              "\n",
              "      <script>\n",
              "        const buttonEl =\n",
              "          document.querySelector('#df-60bde783-50e2-416d-91a5-07c8a5d22264 button.colab-df-convert');\n",
              "        buttonEl.style.display =\n",
              "          google.colab.kernel.accessAllowed ? 'block' : 'none';\n",
              "\n",
              "        async function convertToInteractive(key) {\n",
              "          const element = document.querySelector('#df-60bde783-50e2-416d-91a5-07c8a5d22264');\n",
              "          const dataTable =\n",
              "            await google.colab.kernel.invokeFunction('convertToInteractive',\n",
              "                                                     [key], {});\n",
              "          if (!dataTable) return;\n",
              "\n",
              "          const docLinkHtml = 'Like what you see? Visit the ' +\n",
              "            '<a target=\"_blank\" href=https://colab.research.google.com/notebooks/data_table.ipynb>data table notebook</a>'\n",
              "            + ' to learn more about interactive tables.';\n",
              "          element.innerHTML = '';\n",
              "          dataTable['output_type'] = 'display_data';\n",
              "          await google.colab.output.renderOutput(dataTable, element);\n",
              "          const docLink = document.createElement('div');\n",
              "          docLink.innerHTML = docLinkHtml;\n",
              "          element.appendChild(docLink);\n",
              "        }\n",
              "      </script>\n",
              "    </div>\n",
              "  </div>\n"
            ]
          },
          "metadata": {},
          "execution_count": 15
        }
      ]
    },
    {
      "cell_type": "markdown",
      "source": [
        "**Observación:**\n",
        "\n",
        "Cada valor en el dataframe representa la distancia de Mahalanobis al cuadrado entre dos periodos específicos.\n",
        "\n",
        "Estos resultados nos permiten comparar las similitudes o diferencias en las mediciones de cráneos entre los diferentes periodos de la muestra. Valores más pequeños indican mayor similitud, mientras que valores más grandes indican mayor diferencia entre los periodos.\n",
        "\n",
        "Entonces vemos que existe cierta diferencia entre las cinco muestras, que como se menciona en el libro de Bryan F.J. Manly, el factor más importante de esto pudo ser la migración de otras razas a la región.\n"
      ],
      "metadata": {
        "id": "OdyP23qx8ERb"
      }
    },
    {
      "cell_type": "markdown",
      "source": [
        "## **Referencias**\n",
        "\n",
        "1. Kwak, J. H., & Hong, S. (2004). *Linear Algebra* (2nd ed). Birkhauser Boston.\n",
        "\n",
        "2. Manly, B. F. J., & Navarro, A. J. A. (2017). *Multivariate Statistical Methods* (4th ed). Chapman and Hall/CRC.\n",
        "\n",
        "3.  Chavez, R (2023). Detección de Outliers Multivariante con la Distancia de Mahalanobis y Mahalanobis Robusta en Python .Rocio Chavez Ciencia de Datos. Sitio web: https://www.youtube.com/watch?v=RbwnAUNu-gg&t=459s\n"
      ],
      "metadata": {
        "id": "EhcRmH1lBfV_"
      }
    }
  ]
}